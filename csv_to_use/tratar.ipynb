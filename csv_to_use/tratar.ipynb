{
 "metadata": {
  "language_info": {
   "codemirror_mode": {
    "name": "ipython",
    "version": 3
   },
   "file_extension": ".py",
   "mimetype": "text/x-python",
   "name": "python",
   "nbconvert_exporter": "python",
   "pygments_lexer": "ipython3",
   "version": "3.7.0"
  },
  "orig_nbformat": 2,
  "kernelspec": {
   "name": "python370jvsc74a57bd081cb928fb65a852346610dad7cf94bfcc602beb71fe1aea98bfb5e2e9393b9ff",
   "display_name": "Python 3.7.0 64-bit"
  }
 },
 "nbformat": 4,
 "nbformat_minor": 2,
 "cells": [
  {
   "cell_type": "code",
   "execution_count": 21,
   "metadata": {},
   "outputs": [],
   "source": [
    "import pandas as pd\n",
    "import numpy as np\n",
    "path =\"personal_reparto.csv\"\n",
    "df = pd.read_csv(path)\n",
    "df[\"id\"] = np.arange(1,len(df)+1)\n",
    "df = df[[\"id\",\"id_persona\", \"tipo_licencia\"]]\n",
    "\n",
    "df.to_csv(\"personal_reparto.csv\", index = False)"
   ]
  },
  {
   "cell_type": "code",
   "execution_count": null,
   "metadata": {},
   "outputs": [],
   "source": []
  }
 ]
}